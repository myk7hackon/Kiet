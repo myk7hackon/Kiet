{
 "cells": [
  {
   "cell_type": "markdown",
   "metadata": {
    "_cell_guid": "504783b8-686e-8e37-33cd-1cf67a16ac18",
    "_uuid": "0f6a63d50481a18c4a7b3673ab0b0b2847431459"
   },
   "source": [
    "# Fitting a Naive Bayes Model"
   ]
  },
  {
   "cell_type": "code",
   "execution_count": 1,
   "metadata": {
    "_cell_guid": "0a84cc7a-8bc5-c82a-438c-57eeada63cf4",
    "_uuid": "20ea72ce49f2e84220cf1c439f6967cdba9fb41b",
    "scrolled": true
   },
   "outputs": [
    {
     "name": "stderr",
     "output_type": "stream",
     "text": [
      "C:\\ProgramData\\Anaconda3\\lib\\site-packages\\sklearn\\utils\\fixes.py:313: FutureWarning: numpy not_equal will not check object identity in the future. The comparison did not return the same result as suggested by the identity (`is`)) and will change.\n",
      "  _nan_object_mask = _nan_object_array != _nan_object_array\n"
     ]
    }
   ],
   "source": [
    "\"\"\"Import modules\"\"\"\n",
    "import pandas as pd\n",
    "from sklearn.naive_bayes import GaussianNB\n",
    "import warnings\n",
    "warnings.filterwarnings('ignore')"
   ]
  },
  {
   "cell_type": "markdown",
   "metadata": {
    "_cell_guid": "fe945d61-587b-824c-b737-98bd62250538",
    "_uuid": "0d35f961853ef1ccba0bed02d6d4f04c0e8dfb6f"
   },
   "source": [
    "First Step: Read .csv files"
   ]
  },
  {
   "cell_type": "code",
   "execution_count": 2,
   "metadata": {
    "_cell_guid": "cadb6050-7cce-755e-d94b-b3d1523a00b1",
    "_uuid": "8cfb9bc18fbcaf578d26a5433c88738073babda0"
   },
   "outputs": [],
   "source": [
    "\"\"\"Read Csv files\"\"\"\n",
    "dfTrain = pd.read_csv(\"train.csv\")\n",
    "dfTest = pd.read_csv(\"test.csv\")"
   ]
  },
  {
   "cell_type": "markdown",
   "metadata": {
    "_cell_guid": "f57b5e85-a0c6-cb21-4463-23d6f887ddf7",
    "_uuid": "2333799e82275c51523d358dfb056f7777c94d6f"
   },
   "source": [
    "Second Step: Handle Age data (An important number of missing values)"
   ]
  },
  {
   "cell_type": "code",
   "execution_count": 3,
   "metadata": {
    "_cell_guid": "7919e750-abfe-559f-9939-896f7b6071ab",
    "_uuid": "8920c7c5860ea49e75ba83b0e82314ecb1e3e557"
   },
   "outputs": [],
   "source": [
    "dfTrain[\"CAge\"]=pd.cut(dfTrain[\"Age\"], bins = [0,10,18,40,max(dfTrain[\"Age\"])] ,labels=[\"Child\",\"MYoung\",\"Young\",\"Older\"])\n",
    "dfTest[\"CAge\"]=pd.cut(dfTest[\"Age\"], bins = [0,10,18,40,max(dfTest[\"Age\"])] ,labels=[\"Child\",\"MYoung\",\"Young\",\"Older\"])"
   ]
  },
  {
   "cell_type": "markdown",
   "metadata": {
    "_cell_guid": "cfd8bfa3-6832-b0cb-7651-a58a19c06912",
    "_uuid": "a5b4a82f9525cb168701bc8945c8d72ee8bbff2c"
   },
   "source": [
    "Third Step: Handle Categorical Data"
   ]
  },
  {
   "cell_type": "code",
   "execution_count": 4,
   "metadata": {
    "_cell_guid": "a788b4b3-5df9-df62-0ddb-fb5b0d0f9b92",
    "_uuid": "12b1e304a084102c4064bab92798240ef6fdf3fe"
   },
   "outputs": [],
   "source": [
    "\"\"\"Make dummy variables for categorical data\"\"\"\n",
    "dfTrain= pd.get_dummies(data = dfTrain, dummy_na=True, prefix= [\"Pclass\",\"Sex\",\"Embarked\",\"Age\"] ,columns=[\"Pclass\",\"Sex\",\"Embarked\",\"CAge\"])\n",
    "dfTest= pd.get_dummies(data = dfTest, dummy_na=True, prefix= [\"Pclass\",\"Sex\",\"Embarked\",\"Age\"] ,columns=[\"Pclass\",\"Sex\",\"Embarked\",\"CAge\"])\n",
    "\n",
    "\"\"\"Store the train outcomes for survived\"\"\"\n",
    "Y_train=dfTrain[\"Survived\"]"
   ]
  },
  {
   "cell_type": "markdown",
   "metadata": {
    "_cell_guid": "a189357d-787c-093b-229c-6c68c858cdb6",
    "_uuid": "3c0bda7d7e40fe2aec97d83e7681126e0c692e8b"
   },
   "source": [
    "Fourth Step: Ignore useless data for the proposed model and handling a missing value"
   ]
  },
  {
   "cell_type": "code",
   "execution_count": 5,
   "metadata": {},
   "outputs": [
    {
     "data": {
      "text/html": [
       "<div>\n",
       "<style scoped>\n",
       "    .dataframe tbody tr th:only-of-type {\n",
       "        vertical-align: middle;\n",
       "    }\n",
       "\n",
       "    .dataframe tbody tr th {\n",
       "        vertical-align: top;\n",
       "    }\n",
       "\n",
       "    .dataframe thead th {\n",
       "        text-align: right;\n",
       "    }\n",
       "</style>\n",
       "<table border=\"1\" class=\"dataframe\">\n",
       "  <thead>\n",
       "    <tr style=\"text-align: right;\">\n",
       "      <th></th>\n",
       "      <th>PassengerId</th>\n",
       "      <th>Name</th>\n",
       "      <th>Age</th>\n",
       "      <th>SibSp</th>\n",
       "      <th>Parch</th>\n",
       "      <th>Ticket</th>\n",
       "      <th>Fare</th>\n",
       "      <th>Cabin</th>\n",
       "      <th>Pclass_1.0</th>\n",
       "      <th>Pclass_2.0</th>\n",
       "      <th>...</th>\n",
       "      <th>Sex_nan</th>\n",
       "      <th>Embarked_C</th>\n",
       "      <th>Embarked_Q</th>\n",
       "      <th>Embarked_S</th>\n",
       "      <th>Embarked_nan</th>\n",
       "      <th>Age_Child</th>\n",
       "      <th>Age_MYoung</th>\n",
       "      <th>Age_Young</th>\n",
       "      <th>Age_Older</th>\n",
       "      <th>Age_nan</th>\n",
       "    </tr>\n",
       "  </thead>\n",
       "  <tbody>\n",
       "    <tr>\n",
       "      <th>0</th>\n",
       "      <td>892</td>\n",
       "      <td>Kelly, Mr. James</td>\n",
       "      <td>34.5</td>\n",
       "      <td>0</td>\n",
       "      <td>0</td>\n",
       "      <td>330911</td>\n",
       "      <td>7.8292</td>\n",
       "      <td>NaN</td>\n",
       "      <td>0</td>\n",
       "      <td>0</td>\n",
       "      <td>...</td>\n",
       "      <td>0</td>\n",
       "      <td>0</td>\n",
       "      <td>1</td>\n",
       "      <td>0</td>\n",
       "      <td>0</td>\n",
       "      <td>0</td>\n",
       "      <td>0</td>\n",
       "      <td>1</td>\n",
       "      <td>0</td>\n",
       "      <td>0</td>\n",
       "    </tr>\n",
       "    <tr>\n",
       "      <th>1</th>\n",
       "      <td>893</td>\n",
       "      <td>Wilkes, Mrs. James (Ellen Needs)</td>\n",
       "      <td>47.0</td>\n",
       "      <td>1</td>\n",
       "      <td>0</td>\n",
       "      <td>363272</td>\n",
       "      <td>7.0000</td>\n",
       "      <td>NaN</td>\n",
       "      <td>0</td>\n",
       "      <td>0</td>\n",
       "      <td>...</td>\n",
       "      <td>0</td>\n",
       "      <td>0</td>\n",
       "      <td>0</td>\n",
       "      <td>1</td>\n",
       "      <td>0</td>\n",
       "      <td>0</td>\n",
       "      <td>0</td>\n",
       "      <td>0</td>\n",
       "      <td>1</td>\n",
       "      <td>0</td>\n",
       "    </tr>\n",
       "    <tr>\n",
       "      <th>2</th>\n",
       "      <td>894</td>\n",
       "      <td>Myles, Mr. Thomas Francis</td>\n",
       "      <td>62.0</td>\n",
       "      <td>0</td>\n",
       "      <td>0</td>\n",
       "      <td>240276</td>\n",
       "      <td>9.6875</td>\n",
       "      <td>NaN</td>\n",
       "      <td>0</td>\n",
       "      <td>1</td>\n",
       "      <td>...</td>\n",
       "      <td>0</td>\n",
       "      <td>0</td>\n",
       "      <td>1</td>\n",
       "      <td>0</td>\n",
       "      <td>0</td>\n",
       "      <td>0</td>\n",
       "      <td>0</td>\n",
       "      <td>0</td>\n",
       "      <td>1</td>\n",
       "      <td>0</td>\n",
       "    </tr>\n",
       "    <tr>\n",
       "      <th>3</th>\n",
       "      <td>895</td>\n",
       "      <td>Wirz, Mr. Albert</td>\n",
       "      <td>27.0</td>\n",
       "      <td>0</td>\n",
       "      <td>0</td>\n",
       "      <td>315154</td>\n",
       "      <td>8.6625</td>\n",
       "      <td>NaN</td>\n",
       "      <td>0</td>\n",
       "      <td>0</td>\n",
       "      <td>...</td>\n",
       "      <td>0</td>\n",
       "      <td>0</td>\n",
       "      <td>0</td>\n",
       "      <td>1</td>\n",
       "      <td>0</td>\n",
       "      <td>0</td>\n",
       "      <td>0</td>\n",
       "      <td>1</td>\n",
       "      <td>0</td>\n",
       "      <td>0</td>\n",
       "    </tr>\n",
       "    <tr>\n",
       "      <th>4</th>\n",
       "      <td>896</td>\n",
       "      <td>Hirvonen, Mrs. Alexander (Helga E Lindqvist)</td>\n",
       "      <td>22.0</td>\n",
       "      <td>1</td>\n",
       "      <td>1</td>\n",
       "      <td>3101298</td>\n",
       "      <td>12.2875</td>\n",
       "      <td>NaN</td>\n",
       "      <td>0</td>\n",
       "      <td>0</td>\n",
       "      <td>...</td>\n",
       "      <td>0</td>\n",
       "      <td>0</td>\n",
       "      <td>0</td>\n",
       "      <td>1</td>\n",
       "      <td>0</td>\n",
       "      <td>0</td>\n",
       "      <td>0</td>\n",
       "      <td>1</td>\n",
       "      <td>0</td>\n",
       "      <td>0</td>\n",
       "    </tr>\n",
       "  </tbody>\n",
       "</table>\n",
       "<p>5 rows × 24 columns</p>\n",
       "</div>"
      ],
      "text/plain": [
       "   PassengerId                                          Name   Age  SibSp  \\\n",
       "0          892                              Kelly, Mr. James  34.5      0   \n",
       "1          893              Wilkes, Mrs. James (Ellen Needs)  47.0      1   \n",
       "2          894                     Myles, Mr. Thomas Francis  62.0      0   \n",
       "3          895                              Wirz, Mr. Albert  27.0      0   \n",
       "4          896  Hirvonen, Mrs. Alexander (Helga E Lindqvist)  22.0      1   \n",
       "\n",
       "   Parch   Ticket     Fare Cabin  Pclass_1.0  Pclass_2.0   ...     Sex_nan  \\\n",
       "0      0   330911   7.8292   NaN           0           0   ...           0   \n",
       "1      0   363272   7.0000   NaN           0           0   ...           0   \n",
       "2      0   240276   9.6875   NaN           0           1   ...           0   \n",
       "3      0   315154   8.6625   NaN           0           0   ...           0   \n",
       "4      1  3101298  12.2875   NaN           0           0   ...           0   \n",
       "\n",
       "   Embarked_C  Embarked_Q  Embarked_S  Embarked_nan  Age_Child  Age_MYoung  \\\n",
       "0           0           1           0             0          0           0   \n",
       "1           0           0           1             0          0           0   \n",
       "2           0           1           0             0          0           0   \n",
       "3           0           0           1             0          0           0   \n",
       "4           0           0           1             0          0           0   \n",
       "\n",
       "   Age_Young  Age_Older  Age_nan  \n",
       "0          1          0        0  \n",
       "1          0          1        0  \n",
       "2          0          1        0  \n",
       "3          1          0        0  \n",
       "4          1          0        0  \n",
       "\n",
       "[5 rows x 24 columns]"
      ]
     },
     "execution_count": 5,
     "metadata": {},
     "output_type": "execute_result"
    }
   ],
   "source": [
    "dfTest.head()"
   ]
  },
  {
   "cell_type": "code",
   "execution_count": 6,
   "metadata": {
    "_cell_guid": "94a9c6b6-cec3-b757-677d-4a7f5d2eee72",
    "_uuid": "c7f102c8d313acc7231b1a886688f42f36934ad9"
   },
   "outputs": [
    {
     "data": {
      "text/html": [
       "<div>\n",
       "<style scoped>\n",
       "    .dataframe tbody tr th:only-of-type {\n",
       "        vertical-align: middle;\n",
       "    }\n",
       "\n",
       "    .dataframe tbody tr th {\n",
       "        vertical-align: top;\n",
       "    }\n",
       "\n",
       "    .dataframe thead th {\n",
       "        text-align: right;\n",
       "    }\n",
       "</style>\n",
       "<table border=\"1\" class=\"dataframe\">\n",
       "  <thead>\n",
       "    <tr style=\"text-align: right;\">\n",
       "      <th></th>\n",
       "      <th>Age_Child</th>\n",
       "      <th>Age_MYoung</th>\n",
       "      <th>Age_Older</th>\n",
       "      <th>Age_Young</th>\n",
       "      <th>Age_nan</th>\n",
       "      <th>Embarked_C</th>\n",
       "      <th>Embarked_Q</th>\n",
       "      <th>Embarked_S</th>\n",
       "      <th>Embarked_nan</th>\n",
       "      <th>Fare</th>\n",
       "      <th>Parch</th>\n",
       "      <th>Pclass_1.0</th>\n",
       "      <th>Pclass_2.0</th>\n",
       "      <th>Pclass_3.0</th>\n",
       "      <th>Pclass_nan</th>\n",
       "      <th>Sex_female</th>\n",
       "      <th>Sex_male</th>\n",
       "      <th>Sex_nan</th>\n",
       "      <th>SibSp</th>\n",
       "    </tr>\n",
       "  </thead>\n",
       "  <tbody>\n",
       "    <tr>\n",
       "      <th>0</th>\n",
       "      <td>0</td>\n",
       "      <td>0</td>\n",
       "      <td>0</td>\n",
       "      <td>1</td>\n",
       "      <td>0</td>\n",
       "      <td>0</td>\n",
       "      <td>0</td>\n",
       "      <td>1</td>\n",
       "      <td>0</td>\n",
       "      <td>7.2500</td>\n",
       "      <td>0</td>\n",
       "      <td>0</td>\n",
       "      <td>0</td>\n",
       "      <td>1</td>\n",
       "      <td>0</td>\n",
       "      <td>0</td>\n",
       "      <td>1</td>\n",
       "      <td>0</td>\n",
       "      <td>1</td>\n",
       "    </tr>\n",
       "    <tr>\n",
       "      <th>1</th>\n",
       "      <td>0</td>\n",
       "      <td>0</td>\n",
       "      <td>0</td>\n",
       "      <td>1</td>\n",
       "      <td>0</td>\n",
       "      <td>1</td>\n",
       "      <td>0</td>\n",
       "      <td>0</td>\n",
       "      <td>0</td>\n",
       "      <td>71.2833</td>\n",
       "      <td>0</td>\n",
       "      <td>1</td>\n",
       "      <td>0</td>\n",
       "      <td>0</td>\n",
       "      <td>0</td>\n",
       "      <td>1</td>\n",
       "      <td>0</td>\n",
       "      <td>0</td>\n",
       "      <td>1</td>\n",
       "    </tr>\n",
       "    <tr>\n",
       "      <th>2</th>\n",
       "      <td>0</td>\n",
       "      <td>0</td>\n",
       "      <td>0</td>\n",
       "      <td>1</td>\n",
       "      <td>0</td>\n",
       "      <td>0</td>\n",
       "      <td>0</td>\n",
       "      <td>1</td>\n",
       "      <td>0</td>\n",
       "      <td>7.9250</td>\n",
       "      <td>0</td>\n",
       "      <td>0</td>\n",
       "      <td>0</td>\n",
       "      <td>1</td>\n",
       "      <td>0</td>\n",
       "      <td>1</td>\n",
       "      <td>0</td>\n",
       "      <td>0</td>\n",
       "      <td>0</td>\n",
       "    </tr>\n",
       "    <tr>\n",
       "      <th>3</th>\n",
       "      <td>0</td>\n",
       "      <td>0</td>\n",
       "      <td>0</td>\n",
       "      <td>1</td>\n",
       "      <td>0</td>\n",
       "      <td>0</td>\n",
       "      <td>0</td>\n",
       "      <td>1</td>\n",
       "      <td>0</td>\n",
       "      <td>53.1000</td>\n",
       "      <td>0</td>\n",
       "      <td>1</td>\n",
       "      <td>0</td>\n",
       "      <td>0</td>\n",
       "      <td>0</td>\n",
       "      <td>1</td>\n",
       "      <td>0</td>\n",
       "      <td>0</td>\n",
       "      <td>1</td>\n",
       "    </tr>\n",
       "    <tr>\n",
       "      <th>4</th>\n",
       "      <td>0</td>\n",
       "      <td>0</td>\n",
       "      <td>0</td>\n",
       "      <td>1</td>\n",
       "      <td>0</td>\n",
       "      <td>0</td>\n",
       "      <td>0</td>\n",
       "      <td>1</td>\n",
       "      <td>0</td>\n",
       "      <td>8.0500</td>\n",
       "      <td>0</td>\n",
       "      <td>0</td>\n",
       "      <td>0</td>\n",
       "      <td>1</td>\n",
       "      <td>0</td>\n",
       "      <td>0</td>\n",
       "      <td>1</td>\n",
       "      <td>0</td>\n",
       "      <td>0</td>\n",
       "    </tr>\n",
       "  </tbody>\n",
       "</table>\n",
       "</div>"
      ],
      "text/plain": [
       "   Age_Child  Age_MYoung  Age_Older  Age_Young  Age_nan  Embarked_C  \\\n",
       "0          0           0          0          1        0           0   \n",
       "1          0           0          0          1        0           1   \n",
       "2          0           0          0          1        0           0   \n",
       "3          0           0          0          1        0           0   \n",
       "4          0           0          0          1        0           0   \n",
       "\n",
       "   Embarked_Q  Embarked_S  Embarked_nan     Fare  Parch  Pclass_1.0  \\\n",
       "0           0           1             0   7.2500      0           0   \n",
       "1           0           0             0  71.2833      0           1   \n",
       "2           0           1             0   7.9250      0           0   \n",
       "3           0           1             0  53.1000      0           1   \n",
       "4           0           1             0   8.0500      0           0   \n",
       "\n",
       "   Pclass_2.0  Pclass_3.0  Pclass_nan  Sex_female  Sex_male  Sex_nan  SibSp  \n",
       "0           0           1           0           0         1        0      1  \n",
       "1           0           0           0           1         0        0      1  \n",
       "2           0           1           0           1         0        0      0  \n",
       "3           0           0           0           1         0        0      1  \n",
       "4           0           1           0           0         1        0      0  "
      ]
     },
     "execution_count": 6,
     "metadata": {},
     "output_type": "execute_result"
    }
   ],
   "source": [
    "\"\"\"Store PassengerId\"\"\"\n",
    "submission=pd.DataFrame()\n",
    "submission[\"PassengerId\"]=dfTest[\"PassengerId\"]\n",
    "\n",
    "\"\"\"Ignore useless data\"\"\"\n",
    "dfTrain=dfTrain[dfTrain.columns.difference([\"Age\",\"Survived\",\"PassengerId\",\"Name\",\"Ticket\",\"Cabin\"])]\n",
    "dfTest=dfTest[dfTest.columns.difference([\"Age\",\"PassengerId\",\"Name\",\"Ticket\",\"Cabin\"])]\n",
    "\n",
    "\"\"\"handling a Nan value\"\"\"\n",
    "dfTest[\"Fare\"].iloc[dfTest[dfTest[\"Fare\"].isnull()].index] = dfTest[dfTest[\"Pclass_3.0\"]==1][\"Fare\"].median()\n",
    "dfTrain.head()"
   ]
  },
  {
   "cell_type": "markdown",
   "metadata": {
    "_cell_guid": "e4ef25f1-fe00-f492-ae75-060104d365c6",
    "_uuid": "42eac415892a944e4264ce3c6974f0f02e5095ab"
   },
   "source": [
    "Fifth Step: Fit the Naive Bayesian Model"
   ]
  },
  {
   "cell_type": "code",
   "execution_count": 7,
   "metadata": {
    "_cell_guid": "4990d32f-8ff0-f02c-4322-98bd6f4f2e94",
    "_uuid": "6d4cbebe68a535558f456b98be2f7edb5b0ab239"
   },
   "outputs": [
    {
     "data": {
      "text/plain": [
       "GaussianNB(priors=None, var_smoothing=1e-09)"
      ]
     },
     "execution_count": 7,
     "metadata": {},
     "output_type": "execute_result"
    }
   ],
   "source": [
    "\"\"\"Fit Model\"\"\"\n",
    "clf = GaussianNB()\n",
    "clf.fit(dfTrain,Y_train)"
   ]
  },
  {
   "cell_type": "markdown",
   "metadata": {
    "_cell_guid": "1634aa59-d34a-8b99-8fb7-5b38bdc10b03",
    "_uuid": "21a391dd255dd6855ecb4a8fb928c666499c769c"
   },
   "source": [
    "Last Step: Saving the results in a csv"
   ]
  },
  {
   "cell_type": "code",
   "execution_count": 8,
   "metadata": {
    "_cell_guid": "174337ae-e9f0-3d22-36ae-6239db2cb1c2",
    "_uuid": "8ed54d4daf64e9c91b38a987beb4a6b40935d9c4"
   },
   "outputs": [
    {
     "data": {
      "text/html": [
       "<div>\n",
       "<style scoped>\n",
       "    .dataframe tbody tr th:only-of-type {\n",
       "        vertical-align: middle;\n",
       "    }\n",
       "\n",
       "    .dataframe tbody tr th {\n",
       "        vertical-align: top;\n",
       "    }\n",
       "\n",
       "    .dataframe thead th {\n",
       "        text-align: right;\n",
       "    }\n",
       "</style>\n",
       "<table border=\"1\" class=\"dataframe\">\n",
       "  <thead>\n",
       "    <tr style=\"text-align: right;\">\n",
       "      <th></th>\n",
       "      <th>PassengerId</th>\n",
       "      <th>Survived</th>\n",
       "    </tr>\n",
       "  </thead>\n",
       "  <tbody>\n",
       "    <tr>\n",
       "      <th>0</th>\n",
       "      <td>892</td>\n",
       "      <td>0</td>\n",
       "    </tr>\n",
       "    <tr>\n",
       "      <th>1</th>\n",
       "      <td>893</td>\n",
       "      <td>0</td>\n",
       "    </tr>\n",
       "    <tr>\n",
       "      <th>2</th>\n",
       "      <td>894</td>\n",
       "      <td>0</td>\n",
       "    </tr>\n",
       "    <tr>\n",
       "      <th>3</th>\n",
       "      <td>895</td>\n",
       "      <td>0</td>\n",
       "    </tr>\n",
       "    <tr>\n",
       "      <th>4</th>\n",
       "      <td>896</td>\n",
       "      <td>0</td>\n",
       "    </tr>\n",
       "    <tr>\n",
       "      <th>5</th>\n",
       "      <td>897</td>\n",
       "      <td>0</td>\n",
       "    </tr>\n",
       "    <tr>\n",
       "      <th>6</th>\n",
       "      <td>898</td>\n",
       "      <td>0</td>\n",
       "    </tr>\n",
       "    <tr>\n",
       "      <th>7</th>\n",
       "      <td>899</td>\n",
       "      <td>0</td>\n",
       "    </tr>\n",
       "    <tr>\n",
       "      <th>8</th>\n",
       "      <td>900</td>\n",
       "      <td>1</td>\n",
       "    </tr>\n",
       "    <tr>\n",
       "      <th>9</th>\n",
       "      <td>901</td>\n",
       "      <td>0</td>\n",
       "    </tr>\n",
       "  </tbody>\n",
       "</table>\n",
       "</div>"
      ],
      "text/plain": [
       "   PassengerId  Survived\n",
       "0          892         0\n",
       "1          893         0\n",
       "2          894         0\n",
       "3          895         0\n",
       "4          896         0\n",
       "5          897         0\n",
       "6          898         0\n",
       "7          899         0\n",
       "8          900         1\n",
       "9          901         0"
      ]
     },
     "execution_count": 8,
     "metadata": {},
     "output_type": "execute_result"
    }
   ],
   "source": [
    "\"\"\"Make a Csv with Results\"\"\"\n",
    "pred = pd.DataFrame(clf.predict(dfTest),columns=[\"Survived\"])\n",
    "submission=submission.join(pred,how=\"inner\")\n",
    "submission.to_csv(\"submit.csv\", index=False)\n",
    "submission.head(10)\n"
   ]
  },
  {
   "cell_type": "code",
   "execution_count": null,
   "metadata": {},
   "outputs": [],
   "source": []
  }
 ],
 "metadata": {
  "_change_revision": 0,
  "_is_fork": false,
  "kernelspec": {
   "display_name": "Python 3",
   "language": "python",
   "name": "python3"
  },
  "language_info": {
   "codemirror_mode": {
    "name": "ipython",
    "version": 3
   },
   "file_extension": ".py",
   "mimetype": "text/x-python",
   "name": "python",
   "nbconvert_exporter": "python",
   "pygments_lexer": "ipython3",
   "version": "3.6.5"
  }
 },
 "nbformat": 4,
 "nbformat_minor": 1
}
